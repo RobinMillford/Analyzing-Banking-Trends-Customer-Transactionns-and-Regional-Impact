{
 "cells": [
  {
   "cell_type": "code",
   "execution_count": 1,
   "metadata": {},
   "outputs": [],
   "source": [
    "import pandas as pd\n",
    "import numpy as np"
   ]
  },
  {
   "cell_type": "code",
   "execution_count": 2,
   "metadata": {},
   "outputs": [
    {
     "data": {
      "text/html": [
       "<div>\n",
       "<style scoped>\n",
       "    .dataframe tbody tr th:only-of-type {\n",
       "        vertical-align: middle;\n",
       "    }\n",
       "\n",
       "    .dataframe tbody tr th {\n",
       "        vertical-align: top;\n",
       "    }\n",
       "\n",
       "    .dataframe thead th {\n",
       "        text-align: right;\n",
       "    }\n",
       "</style>\n",
       "<table border=\"1\" class=\"dataframe\">\n",
       "  <thead>\n",
       "    <tr style=\"text-align: right;\">\n",
       "      <th></th>\n",
       "      <th>id_</th>\n",
       "      <th>area_id_</th>\n",
       "      <th>node_id_</th>\n",
       "      <th>act_date</th>\n",
       "      <th>deact_date</th>\n",
       "      <th>has_loan</th>\n",
       "      <th>is_act</th>\n",
       "    </tr>\n",
       "  </thead>\n",
       "  <tbody>\n",
       "    <tr>\n",
       "      <th>0</th>\n",
       "      <td>1</td>\n",
       "      <td>3</td>\n",
       "      <td>4</td>\n",
       "      <td>02-01-2020</td>\n",
       "      <td>03-01-2020</td>\n",
       "      <td>1</td>\n",
       "      <td>0</td>\n",
       "    </tr>\n",
       "    <tr>\n",
       "      <th>1</th>\n",
       "      <td>2</td>\n",
       "      <td>3</td>\n",
       "      <td>5</td>\n",
       "      <td>03-01-2020</td>\n",
       "      <td>17-01-2020</td>\n",
       "      <td>0</td>\n",
       "      <td>1</td>\n",
       "    </tr>\n",
       "    <tr>\n",
       "      <th>2</th>\n",
       "      <td>3</td>\n",
       "      <td>5</td>\n",
       "      <td>4</td>\n",
       "      <td>27-01-2020</td>\n",
       "      <td>18-02-2020</td>\n",
       "      <td>0</td>\n",
       "      <td>0</td>\n",
       "    </tr>\n",
       "    <tr>\n",
       "      <th>3</th>\n",
       "      <td>4</td>\n",
       "      <td>5</td>\n",
       "      <td>4</td>\n",
       "      <td>07-01-2020</td>\n",
       "      <td>19-01-2020</td>\n",
       "      <td>1</td>\n",
       "      <td>1</td>\n",
       "    </tr>\n",
       "    <tr>\n",
       "      <th>4</th>\n",
       "      <td>5</td>\n",
       "      <td>3</td>\n",
       "      <td>3</td>\n",
       "      <td>15-01-2020</td>\n",
       "      <td>23-01-2020</td>\n",
       "      <td>0</td>\n",
       "      <td>1</td>\n",
       "    </tr>\n",
       "  </tbody>\n",
       "</table>\n",
       "</div>"
      ],
      "text/plain": [
       "   id_  area_id_  node_id_    act_date  deact_date  has_loan  is_act\n",
       "0    1         3         4  02-01-2020  03-01-2020         1       0\n",
       "1    2         3         5  03-01-2020  17-01-2020         0       1\n",
       "2    3         5         4  27-01-2020  18-02-2020         0       0\n",
       "3    4         5         4  07-01-2020  19-01-2020         1       1\n",
       "4    5         3         3  15-01-2020  23-01-2020         0       1"
      ]
     },
     "execution_count": 2,
     "metadata": {},
     "output_type": "execute_result"
    }
   ],
   "source": [
    "df1 = pd.read_csv(\"user_nodes.csv\")\n",
    "df1.head()"
   ]
  },
  {
   "cell_type": "code",
   "execution_count": 3,
   "metadata": {},
   "outputs": [
    {
     "data": {
      "text/plain": [
       "id_           0\n",
       "area_id_      0\n",
       "node_id_      0\n",
       "act_date      0\n",
       "deact_date    0\n",
       "has_loan      0\n",
       "is_act        0\n",
       "dtype: int64"
      ]
     },
     "execution_count": 3,
     "metadata": {},
     "output_type": "execute_result"
    }
   ],
   "source": [
    "df1.isnull().sum()"
   ]
  },
  {
   "cell_type": "code",
   "execution_count": 4,
   "metadata": {},
   "outputs": [
    {
     "data": {
      "text/plain": [
       "143"
      ]
     },
     "execution_count": 4,
     "metadata": {},
     "output_type": "execute_result"
    }
   ],
   "source": [
    "df1.duplicated().sum()"
   ]
  },
  {
   "cell_type": "code",
   "execution_count": 5,
   "metadata": {},
   "outputs": [],
   "source": [
    "df1 = df1.drop_duplicates()"
   ]
  },
  {
   "cell_type": "code",
   "execution_count": 6,
   "metadata": {},
   "outputs": [],
   "source": [
    "df1 = df1.drop(columns=['has_loan', 'is_act'])\n",
    "\n",
    "df1 = df1.rename(columns={'id_': 'consumer_id',\n",
    "                            'area_id_': 'region_id',\n",
    "                            'node_id_': 'node_id',\n",
    "                            'act_date': 'start_date',\n",
    "                            'deact_date': 'end_date'})\n",
    "\n",
    "df1.to_csv('user_nodes_cleaned.csv', index=False)"
   ]
  },
  {
   "cell_type": "code",
   "execution_count": 7,
   "metadata": {},
   "outputs": [
    {
     "data": {
      "text/html": [
       "<div>\n",
       "<style scoped>\n",
       "    .dataframe tbody tr th:only-of-type {\n",
       "        vertical-align: middle;\n",
       "    }\n",
       "\n",
       "    .dataframe tbody tr th {\n",
       "        vertical-align: top;\n",
       "    }\n",
       "\n",
       "    .dataframe thead th {\n",
       "        text-align: right;\n",
       "    }\n",
       "</style>\n",
       "<table border=\"1\" class=\"dataframe\">\n",
       "  <thead>\n",
       "    <tr style=\"text-align: right;\">\n",
       "      <th></th>\n",
       "      <th>id_</th>\n",
       "      <th>t_date</th>\n",
       "      <th>t_type</th>\n",
       "      <th>t_amt</th>\n",
       "      <th>has_credit_card</th>\n",
       "      <th>account_type</th>\n",
       "    </tr>\n",
       "  </thead>\n",
       "  <tbody>\n",
       "    <tr>\n",
       "      <th>0</th>\n",
       "      <td>312</td>\n",
       "      <td>20-01-2020</td>\n",
       "      <td>deposit</td>\n",
       "      <td>485</td>\n",
       "      <td>Yes</td>\n",
       "      <td>Savings</td>\n",
       "    </tr>\n",
       "    <tr>\n",
       "      <th>1</th>\n",
       "      <td>376</td>\n",
       "      <td>03-01-2020</td>\n",
       "      <td>deposit</td>\n",
       "      <td>706</td>\n",
       "      <td>No</td>\n",
       "      <td>Current</td>\n",
       "    </tr>\n",
       "    <tr>\n",
       "      <th>2</th>\n",
       "      <td>188</td>\n",
       "      <td>13-01-2020</td>\n",
       "      <td>deposit</td>\n",
       "      <td>601</td>\n",
       "      <td>No</td>\n",
       "      <td>Savings</td>\n",
       "    </tr>\n",
       "    <tr>\n",
       "      <th>3</th>\n",
       "      <td>138</td>\n",
       "      <td>11-01-2020</td>\n",
       "      <td>deposit</td>\n",
       "      <td>520</td>\n",
       "      <td>No</td>\n",
       "      <td>Salary</td>\n",
       "    </tr>\n",
       "    <tr>\n",
       "      <th>4</th>\n",
       "      <td>373</td>\n",
       "      <td>18-01-2020</td>\n",
       "      <td>deposit</td>\n",
       "      <td>596</td>\n",
       "      <td>No</td>\n",
       "      <td>Salary</td>\n",
       "    </tr>\n",
       "  </tbody>\n",
       "</table>\n",
       "</div>"
      ],
      "text/plain": [
       "   id_      t_date   t_type  t_amt has_credit_card account_type\n",
       "0  312  20-01-2020  deposit    485             Yes      Savings\n",
       "1  376  03-01-2020  deposit    706              No      Current\n",
       "2  188  13-01-2020  deposit    601              No      Savings\n",
       "3  138  11-01-2020  deposit    520              No       Salary\n",
       "4  373  18-01-2020  deposit    596              No       Salary"
      ]
     },
     "execution_count": 7,
     "metadata": {},
     "output_type": "execute_result"
    }
   ],
   "source": [
    "df2 = pd.read_csv(\"user_transactions.csv\")\n",
    "df2.head()"
   ]
  },
  {
   "cell_type": "code",
   "execution_count": 8,
   "metadata": {},
   "outputs": [
    {
     "data": {
      "text/plain": [
       "id_                0\n",
       "t_date             0\n",
       "t_type             0\n",
       "t_amt              0\n",
       "has_credit_card    0\n",
       "account_type       0\n",
       "dtype: int64"
      ]
     },
     "execution_count": 8,
     "metadata": {},
     "output_type": "execute_result"
    }
   ],
   "source": [
    "df2.isna().sum()"
   ]
  },
  {
   "cell_type": "code",
   "execution_count": 9,
   "metadata": {},
   "outputs": [
    {
     "data": {
      "text/plain": [
       "79"
      ]
     },
     "execution_count": 9,
     "metadata": {},
     "output_type": "execute_result"
    }
   ],
   "source": [
    "df2.duplicated().sum()"
   ]
  },
  {
   "cell_type": "code",
   "execution_count": 10,
   "metadata": {},
   "outputs": [],
   "source": [
    "df2 = df2.drop_duplicates()"
   ]
  },
  {
   "cell_type": "code",
   "execution_count": 11,
   "metadata": {},
   "outputs": [],
   "source": [
    "df2 = df2.drop(columns=['has_credit_card', 'account_type'])\n",
    "\n",
    "df2 = df2.rename(columns={'id_': 'consumer_id',\n",
    "                            't_date': 'transaction_date',\n",
    "                            't_type': 'transaction_type',\n",
    "                            't_amt': 'transaction_amount'})\n",
    "\n",
    "df2.to_csv('user_transaction_cleaned.csv', index=False)"
   ]
  }
 ],
 "metadata": {
  "kernelspec": {
   "display_name": "base",
   "language": "python",
   "name": "python3"
  },
  "language_info": {
   "codemirror_mode": {
    "name": "ipython",
    "version": 3
   },
   "file_extension": ".py",
   "mimetype": "text/x-python",
   "name": "python",
   "nbconvert_exporter": "python",
   "pygments_lexer": "ipython3",
   "version": "3.9.16"
  },
  "orig_nbformat": 4
 },
 "nbformat": 4,
 "nbformat_minor": 2
}
